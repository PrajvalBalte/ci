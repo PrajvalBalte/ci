{
 "cells": [
  {
   "cell_type": "code",
   "execution_count": 1,
   "id": "24a6fd80-a5d4-40bd-bc83-7b3ce3a4a4ff",
   "metadata": {},
   "outputs": [
    {
     "name": "stdout",
     "output_type": "stream",
     "text": [
      "Best individual: [0.026612330100834743, 0.001806445190820232, -0.022087781694141814]\n",
      "Best fitness: 0.0011993494577912987\n"
     ]
    }
   ],
   "source": [
    "import random\n",
    "from deap import base, creator, tools, algorithms\n",
    "\n",
    "# Evaluation function (minimize sum of squares)\n",
    "def eval_func(individual):\n",
    "    return sum(x ** 2 for x in individual),\n",
    "\n",
    "# Define fitness and individual classes\n",
    "creator.create(\"FitnessMin\", base.Fitness, weights=(-1.0,))\n",
    "creator.create(\"Individual\", list, fitness=creator.FitnessMin)\n",
    "\n",
    "# Toolbox setup\n",
    "toolbox = base.Toolbox()\n",
    "toolbox.register(\"attr_float\", random.uniform, -5.0, 5.0)  # Float values between -5 and 5\n",
    "toolbox.register(\"individual\", tools.initRepeat, creator.Individual, toolbox.attr_float, n=3)\n",
    "toolbox.register(\"population\", tools.initRepeat, list, toolbox.individual)\n",
    "toolbox.register(\"evaluate\", eval_func)\n",
    "toolbox.register(\"mate\", tools.cxBlend, alpha=0.5)\n",
    "toolbox.register(\"mutate\", tools.mutGaussian, mu=0, sigma=1, indpb=0.2)\n",
    "toolbox.register(\"select\", tools.selTournament, tournsize=3)\n",
    "\n",
    "# Initialize population\n",
    "population = toolbox.population(n=50)\n",
    "generations = 20\n",
    "\n",
    "# Evolution process\n",
    "for gen in range(generations):\n",
    "    offspring = algorithms.varAnd(population, toolbox, cxpb=0.5, mutpb=0.1)\n",
    "\n",
    "    # Evaluate offspring\n",
    "    fits = toolbox.map(toolbox.evaluate, offspring)\n",
    "    for fit, ind in zip(fits, offspring):\n",
    "        ind.fitness.values = fit\n",
    "\n",
    "    # Select the next generation\n",
    "    population = toolbox.select(offspring, k=len(population))\n",
    "\n",
    "# Get the best individual\n",
    "best_ind = tools.selBest(population, k=1)[0]\n",
    "best_fitness = best_ind.fitness.values[0]\n",
    "print(\"Best individual:\", best_ind)\n",
    "print(\"Best fitness:\", best_fitness)\n"
   ]
  }
 ],
 "metadata": {
  "kernelspec": {
   "display_name": "Python 3 (ipykernel)",
   "language": "python",
   "name": "python3"
  },
  "language_info": {
   "codemirror_mode": {
    "name": "ipython",
    "version": 3
   },
   "file_extension": ".py",
   "mimetype": "text/x-python",
   "name": "python",
   "nbconvert_exporter": "python",
   "pygments_lexer": "ipython3",
   "version": "3.11.0"
  }
 },
 "nbformat": 4,
 "nbformat_minor": 5
}
