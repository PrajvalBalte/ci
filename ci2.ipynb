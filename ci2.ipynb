{
 "cells": [
  {
   "cell_type": "code",
   "execution_count": 1,
   "id": "76d181aa-e0e4-466f-98d8-12f3f4e9e28a",
   "metadata": {},
   "outputs": [
    {
     "name": "stdout",
     "output_type": "stream",
     "text": [
      "Generation 1: Best Solution = 1.16278, Fitness = 1.35205\n",
      "Generation 2: Best Solution = 1.02825, Fitness = 1.05730\n",
      "Generation 3: Best Solution = 0.84300, Fitness = 0.71065\n",
      "Generation 4: Best Solution = 0.60226, Fitness = 0.36271\n",
      "Generation 5: Best Solution = 0.42418, Fitness = 0.17993\n",
      "Generation 6: Best Solution = 0.26555, Fitness = 0.07052\n",
      "Generation 7: Best Solution = 0.13874, Fitness = 0.01925\n",
      "Generation 8: Best Solution = 0.02834, Fitness = 0.00080\n",
      "Generation 9: Best Solution = 0.00114, Fitness = 0.00000\n",
      "Generation 10: Best Solution = 0.00126, Fitness = 0.00000\n",
      "Generation 11: Best Solution = -0.00108, Fitness = 0.00000\n",
      "Generation 12: Best Solution = -0.00534, Fitness = 0.00003\n",
      "Generation 13: Best Solution = -0.00429, Fitness = 0.00002\n",
      "Generation 14: Best Solution = -0.00165, Fitness = 0.00000\n",
      "Generation 15: Best Solution = -0.00045, Fitness = 0.00000\n",
      "Generation 16: Best Solution = -0.00034, Fitness = 0.00000\n",
      "Generation 17: Best Solution = -0.00259, Fitness = 0.00001\n",
      "Generation 18: Best Solution = 0.00635, Fitness = 0.00004\n",
      "Generation 19: Best Solution = 0.00844, Fitness = 0.00007\n",
      "Generation 20: Best Solution = 0.01239, Fitness = 0.00015\n",
      "\n",
      "Final Best Solution: 0.012391893772598566\n"
     ]
    }
   ],
   "source": [
    "import numpy as np\n",
    "\n",
    "def objective_function(x):\n",
    "    return x ** 2\n",
    "\n",
    "def initialize_population(size, lower_bound, upper_bound):\n",
    "    return np.random.uniform(lower_bound, upper_bound, size)\n",
    "\n",
    "def clone(antibodies, num_clones):\n",
    "    return np.repeat(antibodies, num_clones)\n",
    "\n",
    "def hypermutate(clones, mutation_rate):\n",
    "    noise = np.random.normal(0, mutation_rate, clones.shape)\n",
    "    return clones + noise\n",
    "\n",
    "def select_best(population, num_best):\n",
    "    fitness = np.array([objective_function(x) for x in population])\n",
    "    sorted_indices = np.argsort(fitness)\n",
    "    return population[sorted_indices[:num_best]]\n",
    "\n",
    "def clonal_selection_algorithm(pop_size=10, generations=20, clone_factor=5, \n",
    "                                mutation_rate=0.1, lower_bound=-10, upper_bound=10):\n",
    "    population = initialize_population(pop_size, lower_bound, upper_bound)\n",
    "    for gen in range(generations):\n",
    "        fitness = np.array([objective_function(x) for x in population])\n",
    "        best = select_best(population, pop_size // 2)\n",
    "        clones = clone(best, clone_factor)\n",
    "        mutated_clones = hypermutate(clones, mutation_rate)\n",
    "        new_best = select_best(mutated_clones, pop_size)\n",
    "        population = new_best\n",
    "        best_solution = population[np.argmin([objective_function(x) for x in population])]\n",
    "        print(f\"Generation {gen+1}: Best Solution = {best_solution:.5f}, Fitness = {objective_function(best_solution):.5f}\")\n",
    "    return best_solution\n",
    "\n",
    "# Run the algorithm\n",
    "best = clonal_selection_algorithm()\n",
    "print(\"\\nFinal Best Solution:\", best)\n"
   ]
  }
 ],
 "metadata": {
  "kernelspec": {
   "display_name": "Python 3 (ipykernel)",
   "language": "python",
   "name": "python3"
  },
  "language_info": {
   "codemirror_mode": {
    "name": "ipython",
    "version": 3
   },
   "file_extension": ".py",
   "mimetype": "text/x-python",
   "name": "python",
   "nbconvert_exporter": "python",
   "pygments_lexer": "ipython3",
   "version": "3.11.0"
  }
 },
 "nbformat": 4,
 "nbformat_minor": 5
}
